{
 "cells": [
  {
   "cell_type": "markdown",
   "metadata": {},
   "source": [
    "## Study of housing prices in Belgium, part 2: cleaning the data"
   ]
  },
  {
   "cell_type": "markdown",
   "metadata": {},
   "source": [
    "In the first part of the project we extracted all the html code for each property sold on the website. We scraped from the code all the characteristics for each of the properties. Two datasets were saved in .xls format.\n",
    "\n",
    "In this part we merge the two datasets, and clean the data.\n",
    "\n",
    "1. importing and merging the data sets\n",
    "2. deleting the unnecessary columns/variables \n",
    "3. cleaning the variables and applying the appropriate type of each variable\n",
    "4. deleting duplicated rows and otuliers/mistakes from the dataset\n",
    "5. running some exploratory data analysis"
   ]
  },
  {
   "cell_type": "markdown",
   "metadata": {},
   "source": [
    "### 1. Importing the datasets"
   ]
  },
  {
   "cell_type": "code",
   "execution_count": 1,
   "metadata": {},
   "outputs": [],
   "source": [
    "import pandas as pd\n",
    "import numpy as np\n",
    "import time\n",
    "\n",
    "date_string = time.strftime(\"%Y_%m_%d\")\n",
    "path = \"C:/Users/Bedoret/OneDrive/Data Science/Housing prices in Belgium/\"\n",
    "\n",
    "pd.options.display.float_format= \"{:.0f}\".format\n",
    "pd.options.display.max_columns = None"
   ]
  },
  {
   "cell_type": "code",
   "execution_count": 2,
   "metadata": {},
   "outputs": [],
   "source": [
    "# add new data extraction to the lists\n",
    "\n",
    "id_files = [\"property_id_2021_08_11\"]\n",
    "char_files = [\"property_char_2021_08_11\"]\n",
    "\n",
    "# extract and concatenate the IDs' files and characteristics' files\n",
    "property_id = []\n",
    "for file in id_files:\n",
    "    data = pd.read_excel('{}{}.xls'.format(path,file), index_col=0)\n",
    "    property_id.append(data)\n",
    "property_id = pd.concat(property_id)   \n",
    "\n",
    "property_char = []\n",
    "for file in char_files:\n",
    "    data = pd.read_excel('{}{}.xls'.format(path,file), index_col=0)\n",
    "    property_char.append(data)\n",
    "property_char = pd.concat(property_char)"
   ]
  },
  {
   "cell_type": "markdown",
   "metadata": {},
   "source": [
    "### 2. Merging the datasets\n",
    "\n",
    "Merging the two datasets along the ID variable which is the unique ID to each property. This variable is already defined in property_id, but is not yet defined in property_char. The unique ID of earch property is contained in the URL link of each property."
   ]
  },
  {
   "cell_type": "code",
   "execution_count": 3,
   "metadata": {},
   "outputs": [],
   "source": [
    "# extract the id values from the url string in property_char\n",
    "property_char[\"id\"] = pd.to_numeric(property_char[\"url\"].str[-7:])\n",
    "\n",
    "# merge the two datasets and drop all duplicates\n",
    "properties = property_id.merge(property_char, how=\"outer\", on=\"id\")\n",
    "properties.drop_duplicates(inplace = True)\n",
    "\n",
    "# Depending on the date of the extraction, we might have to rename these variables\n",
    "properties.rename(columns={'id':'Identifiant','type': 'Type', 'zip': 'Code postal', 'price': 'Prix', 'url':'URL'}, inplace=True)"
   ]
  },
  {
   "cell_type": "markdown",
   "metadata": {},
   "source": [
    "### 3. Cleaning subgroups of properties"
   ]
  },
  {
   "cell_type": "markdown",
   "metadata": {},
   "source": [
    "Apartment groups and house groups are properties sold as part of a group of properties. Although these could leverage valuable information on housing prices, the available data on the properties is insuficient to run valuable statistics."
   ]
  },
  {
   "cell_type": "code",
   "execution_count": 4,
   "metadata": {},
   "outputs": [],
   "source": [
    "properties = properties.loc[(properties['Type'] == \"HOUSE\") | \n",
    "                            (properties['Type'] == \"APARTMENT\")]\n",
    "\n",
    "# uncomment to show summary of properties by type\n",
    "#properties.groupby(\"Type\").mean()"
   ]
  },
  {
   "cell_type": "markdown",
   "metadata": {},
   "source": [
    "### 4. Removing unnecessary colunms"
   ]
  },
  {
   "cell_type": "markdown",
   "metadata": {},
   "source": [
    "There is a bunch of colmns/variables that are not necessary for the analysis. In addition, some variables contain too litle information. We can look at the percentage of missing data for each variable.\n",
    "\n",
    "Note: \"Adresse\" has been incorectly extracted from the data: it corresponds to the adress of the selling agency, not the adress of the property ! Must be deleted."
   ]
  },
  {
   "cell_type": "code",
   "execution_count": 5,
   "metadata": {},
   "outputs": [],
   "source": [
    "def percent_missing(df):\n",
    "    percent_missing = pd.DataFrame(df.isnull().mean() * 100)\n",
    "    percent_missing.sort_values(0, inplace = True, ascending = False)\n",
    "    return percent_missing\n",
    "#percent_missing(properties)"
   ]
  },
  {
   "cell_type": "code",
   "execution_count": 6,
   "metadata": {},
   "outputs": [],
   "source": [
    "properties = properties[[\"Identifiant\",\n",
    "                        \"Type\",\n",
    "                        \"Étage\",\n",
    "                        \"Code postal\",\n",
    "                        \"Prix\",\n",
    "                        \"Surface habitable\",\n",
    "                        \"Surface du terrain\",\n",
    "                        \"Chambres\",\n",
    "                        \"Type de cuisine\",\n",
    "                        \"Salles de bains\",\n",
    "                        \"Salles de douche\",\n",
    "                        \"Toilettes\",\n",
    "                        \"Terrasse\",\n",
    "                        \"Surface de la terrasse\",\n",
    "                        \"Jardin\",\n",
    "                        \"Surface du jardin\",\n",
    "                        \"Nombre de façades\",\n",
    "                        \"Parkings extérieurs\",\n",
    "                        \"Parkings intérieurs\",\n",
    "                        \"Année de construction\",\n",
    "                        \"État du bâtiment\",\n",
    "                        \"Type de chauffage\",\n",
    "                        \"Classe énergétique\",\n",
    "                        \"URL\"]]"
   ]
  },
  {
   "cell_type": "markdown",
   "metadata": {},
   "source": [
    "### 5. Cleaning the column and applying the type for each variable"
   ]
  },
  {
   "cell_type": "markdown",
   "metadata": {},
   "source": [
    "#### Cuisine, classe énergétique & bâtiment"
   ]
  },
  {
   "cell_type": "code",
   "execution_count": 7,
   "metadata": {},
   "outputs": [
    {
     "name": "stderr",
     "output_type": "stream",
     "text": [
      "<ipython-input-7-ea3e256e3548>:28: FutureWarning: The pandas.np module is deprecated and will be removed from pandas in a future version. Import numpy directly instead\n",
      "  properties[\"Classe énergétique\"] = pd.np.where(properties[\"Classe énergétique\"].str.contains(\"_\"), \"Non communiqué\", properties[\"Classe énergétique\"])\n"
     ]
    }
   ],
   "source": [
    "# creating dictionnaries of the new labels for the variables 'type de cuisine',\n",
    "# 'classe énergétique', and 'état du batiment'.\n",
    "\n",
    "cuisine_dictionary={'Américaine hyper-équipée':1,'Hyper équipée':1,\n",
    "                    'Américaine équipée':2,'Équipée':2,\n",
    "                    'Américaine semi-équipée':3, 'Semi-équipée':3,\n",
    "                    'Américaine non-équipée':4, 'Pas équipée':4\n",
    "                    }\n",
    "classe_ener_dictionary={'A++':1,\n",
    "                        'A+':2,\n",
    "                        'A':3,\n",
    "                        'B':4,\n",
    "                        'C':5,\n",
    "                        'D':6,\n",
    "                        'E':7,\n",
    "                        'F':8,\n",
    "                        'G':9,\n",
    "                        'Non communiqué': None\n",
    "                       }\n",
    "batiment_dictionary={\"Excellent état\":1,\n",
    "                     \"Fraîchement rénové\":2,\n",
    "                     \"Bon\":3,\n",
    "                     \"À rafraîchir\":4,\n",
    "                     \"À rénover\":5,\n",
    "                     \"À restaurer\":6\n",
    "                    }\n",
    "\n",
    "properties[\"Classe énergétique\"] = pd.np.where(properties[\"Classe énergétique\"].str.contains(\"_\"), \"Non communiqué\", properties[\"Classe énergétique\"])\n",
    "\n",
    "properties = properties.replace({\"Type de cuisine\":cuisine_dictionary,\"Classe énergétique\":classe_ener_dictionary,\"État du bâtiment\":batiment_dictionary})"
   ]
  },
  {
   "cell_type": "markdown",
   "metadata": {},
   "source": [
    "#### Terrasse, Jardin & Parkings"
   ]
  },
  {
   "cell_type": "code",
   "execution_count": 8,
   "metadata": {
    "scrolled": true
   },
   "outputs": [],
   "source": [
    "# Clean and complete some missing values\n",
    "\n",
    "# if any terrace size has been marked, ensure that the variable terrace is marked as yes\n",
    "properties['Terrasse_new'] = np.where(((properties['Terrasse'] == \"Oui\")| \n",
    "                                       (properties['Surface de la terrasse'] > 0)\n",
    "                                      ), 1, 0\n",
    "                                     )\n",
    "\n",
    "# if any garden size has been marked, ensure that the variable garden is marked as yes\n",
    "properties['Jardin_new'] = np.where(((properties['Jardin'] == \"Oui\")| \n",
    "                                     (properties['Surface du jardin'] > 0)\n",
    "                                    ), 1, 0\n",
    "                                   )\n",
    "\n",
    "# create the variable parking as a boolean if any indoor or outdoor parking is given\n",
    "properties['Parking'] = np.where(((properties['Parkings extérieurs'] > 0)| \n",
    "                                  (properties['Parkings intérieurs'] > 0)\n",
    "                                 ), 1, 0\n",
    "                                )\n",
    "\n",
    "properties = properties.drop(columns=['Terrasse', 'Jardin','Parkings extérieurs','Parkings intérieurs'])\n",
    "properties = properties.rename(columns= {\"Terrasse_new\":\"Terrasse\",\n",
    "                                         \"Jardin_new\": \"Jardin\"})"
   ]
  },
  {
   "cell_type": "markdown",
   "metadata": {},
   "source": [
    "### 6. Cleaning unnecessary rows"
   ]
  },
  {
   "cell_type": "markdown",
   "metadata": {},
   "source": [
    "#### Duplicates"
   ]
  },
  {
   "cell_type": "code",
   "execution_count": 9,
   "metadata": {},
   "outputs": [],
   "source": [
    "# Several properties are sold by different real estate agencies on the same website. We must delete those duplicates.\n",
    "properties.drop_duplicates(subset = properties.columns.difference([\"Identifiant\",\"URL\",\"Page\"]), inplace = True)"
   ]
  },
  {
   "cell_type": "markdown",
   "metadata": {},
   "source": [
    "#### Removing missing values and outliers"
   ]
  },
  {
   "cell_type": "code",
   "execution_count": 10,
   "metadata": {},
   "outputs": [],
   "source": [
    "# delete properties who do not refer any size, or which size is bellow 10 or above 7000\n",
    "properties.drop(properties[(properties['Surface habitable'].isna()) | \n",
    "                           (properties['Surface habitable'] < 10) |\n",
    "                           (properties['Surface habitable'] > 7000) \n",
    "                          ].index, inplace=True)\n",
    "\n",
    "# delete properties which have no price or price is bellow 10 000 €\n",
    "properties.drop(properties[(properties['Prix'].isna()) | \n",
    "                           (properties['Prix'] < 10000)\n",
    "                          ].index, inplace=True)\n",
    "\n",
    "# delete properties who have over 30 bedrooms: These are mostly block of appartments sold in batches \n",
    "# and should have been referred as \"Appartment_Group\" or \"House_Group\" as defined above.\n",
    "# Below 30 rooms, some are batches of appartments, but some are small castle, huge villas.\n",
    "properties.drop(properties[properties.Chambres > 30].index, inplace = True)\n",
    "\n",
    "# mark properties with over 50 floors as missing values\n",
    "properties.loc[properties['Étage'] > 50, 'Étage'] = None\n",
    "\n",
    "# mark properties with less than 5 square meters area as missing values\n",
    "properties.loc[properties['Surface du terrain'] <= 5, 'Surface du terrain'] = None\n",
    "\n",
    "# mark properties with terrace size over 1000 square meter as missing values\n",
    "properties.loc[properties['Surface de la terrasse'] >= 1000, 'Surface de la terrasse'] = None\n",
    "\n",
    "# mark properties with garden size less than 5 square meters as missing values\n",
    "properties.loc[properties['Surface du jardin'] <= 5, 'Surface du jardin'] = None\n",
    "\n",
    "# mark properties who have reported over 4 facades as 4 facades\n",
    "properties.loc[properties['Nombre de façades'] > 4, 'Nombre de façades'] = 4"
   ]
  },
  {
   "cell_type": "markdown",
   "metadata": {},
   "source": [
    "#### Create new variables"
   ]
  },
  {
   "cell_type": "code",
   "execution_count": 11,
   "metadata": {
    "scrolled": false
   },
   "outputs": [],
   "source": [
    "# create a new variable which gives the number of bedrooms per bathroom\n",
    "properties[\"Ratio chambres sdb\"] = properties[\"Chambres\"] / properties[\"Salles de bains\"]\n",
    "\n",
    "# create a variable which gives the price per square meter\n",
    "properties[\"Prix m2\"]= properties[\"Prix\"] / properties[\"Surface habitable\"]\n",
    "properties = properties.drop(properties[properties[\"Prix m2\"].isna()].index)\n",
    "\n",
    "# reorder the colunms\n",
    "properties = properties[[\"Identifiant\",\"Type\",\"Étage\",\"Code postal\",\"Prix\", \"Prix m2\",\"Surface habitable\",\"Surface du terrain\",\"Chambres\",\"Type de cuisine\",\"Salles de bains\",\"Ratio chambres sdb\",\"Toilettes\",\"Terrasse\",\"Surface de la terrasse\",\"Jardin\",\"Surface du jardin\",\"Nombre de façades\",\"Parking\",\"Année de construction\",\"État du bâtiment\",\"Type de chauffage\",\"Classe énergétique\",\"URL\"]]"
   ]
  },
  {
   "cell_type": "markdown",
   "metadata": {},
   "source": [
    "#### Independent drops of rows which are inappropriate"
   ]
  },
  {
   "cell_type": "code",
   "execution_count": 12,
   "metadata": {},
   "outputs": [],
   "source": [
    "# an empty farm with many erroneous variables\n",
    "properties = properties.drop(properties[properties[\"Identifiant\"] == 9103775].index)\n",
    "# an appartment with wrong size\n",
    "properties = properties.drop(properties[properties[\"Identifiant\"] == 8536825].index)\n",
    "# miss reported values for this appartment\n",
    "properties = properties.drop(properties[properties[\"Identifiant\"] == 9227766].index)"
   ]
  },
  {
   "cell_type": "markdown",
   "metadata": {},
   "source": [
    "### 7. Exploratory data analysis"
   ]
  },
  {
   "cell_type": "markdown",
   "metadata": {},
   "source": [
    "Let's have a look at our cleaned dataset. \n",
    "- How many properties do we have?\n",
    "- How many houses/appartments?\n",
    "- Average price / average price for a house vs appartment\n",
    "- Average price per square meter / for houses vs appartment"
   ]
  },
  {
   "cell_type": "code",
   "execution_count": 13,
   "metadata": {
    "scrolled": true
   },
   "outputs": [
    {
     "data": {
      "text/plain": [
       "(43712, 24)"
      ]
     },
     "execution_count": 13,
     "metadata": {},
     "output_type": "execute_result"
    }
   ],
   "source": [
    "properties.shape"
   ]
  },
  {
   "cell_type": "code",
   "execution_count": 14,
   "metadata": {},
   "outputs": [
    {
     "data": {
      "text/html": [
       "<div>\n",
       "<style scoped>\n",
       "    .dataframe tbody tr th:only-of-type {\n",
       "        vertical-align: middle;\n",
       "    }\n",
       "\n",
       "    .dataframe tbody tr th {\n",
       "        vertical-align: top;\n",
       "    }\n",
       "\n",
       "    .dataframe thead th {\n",
       "        text-align: right;\n",
       "    }\n",
       "</style>\n",
       "<table border=\"1\" class=\"dataframe\">\n",
       "  <thead>\n",
       "    <tr style=\"text-align: right;\">\n",
       "      <th></th>\n",
       "      <th>Identifiant</th>\n",
       "      <th>Étage</th>\n",
       "      <th>Code postal</th>\n",
       "      <th>Prix</th>\n",
       "      <th>Prix m2</th>\n",
       "      <th>Surface habitable</th>\n",
       "      <th>Surface du terrain</th>\n",
       "      <th>Chambres</th>\n",
       "      <th>Type de cuisine</th>\n",
       "      <th>Salles de bains</th>\n",
       "      <th>Ratio chambres sdb</th>\n",
       "      <th>Toilettes</th>\n",
       "      <th>Terrasse</th>\n",
       "      <th>Surface de la terrasse</th>\n",
       "      <th>Jardin</th>\n",
       "      <th>Surface du jardin</th>\n",
       "      <th>Nombre de façades</th>\n",
       "      <th>Parking</th>\n",
       "      <th>Année de construction</th>\n",
       "      <th>État du bâtiment</th>\n",
       "      <th>Classe énergétique</th>\n",
       "    </tr>\n",
       "    <tr>\n",
       "      <th>Type</th>\n",
       "      <th></th>\n",
       "      <th></th>\n",
       "      <th></th>\n",
       "      <th></th>\n",
       "      <th></th>\n",
       "      <th></th>\n",
       "      <th></th>\n",
       "      <th></th>\n",
       "      <th></th>\n",
       "      <th></th>\n",
       "      <th></th>\n",
       "      <th></th>\n",
       "      <th></th>\n",
       "      <th></th>\n",
       "      <th></th>\n",
       "      <th></th>\n",
       "      <th></th>\n",
       "      <th></th>\n",
       "      <th></th>\n",
       "      <th></th>\n",
       "      <th></th>\n",
       "    </tr>\n",
       "  </thead>\n",
       "  <tbody>\n",
       "    <tr>\n",
       "      <th>APARTMENT</th>\n",
       "      <td>9244555</td>\n",
       "      <td>3</td>\n",
       "      <td>4753</td>\n",
       "      <td>338220</td>\n",
       "      <td>3264</td>\n",
       "      <td>105</td>\n",
       "      <td>nan</td>\n",
       "      <td>2</td>\n",
       "      <td>2</td>\n",
       "      <td>1</td>\n",
       "      <td>2</td>\n",
       "      <td>1</td>\n",
       "      <td>1</td>\n",
       "      <td>19</td>\n",
       "      <td>0</td>\n",
       "      <td>491</td>\n",
       "      <td>2</td>\n",
       "      <td>0</td>\n",
       "      <td>1997</td>\n",
       "      <td>2</td>\n",
       "      <td>5</td>\n",
       "    </tr>\n",
       "    <tr>\n",
       "      <th>HOUSE</th>\n",
       "      <td>9302511</td>\n",
       "      <td>nan</td>\n",
       "      <td>5185</td>\n",
       "      <td>447829</td>\n",
       "      <td>2010</td>\n",
       "      <td>224</td>\n",
       "      <td>10239</td>\n",
       "      <td>4</td>\n",
       "      <td>2</td>\n",
       "      <td>2</td>\n",
       "      <td>3</td>\n",
       "      <td>2</td>\n",
       "      <td>1</td>\n",
       "      <td>33</td>\n",
       "      <td>0</td>\n",
       "      <td>1085</td>\n",
       "      <td>3</td>\n",
       "      <td>1</td>\n",
       "      <td>1968</td>\n",
       "      <td>3</td>\n",
       "      <td>6</td>\n",
       "    </tr>\n",
       "  </tbody>\n",
       "</table>\n",
       "</div>"
      ],
      "text/plain": [
       "           Identifiant  Étage  Code postal   Prix  Prix m2  Surface habitable  \\\n",
       "Type                                                                            \n",
       "APARTMENT      9244555      3         4753 338220     3264                105   \n",
       "HOUSE          9302511    nan         5185 447829     2010                224   \n",
       "\n",
       "           Surface du terrain  Chambres  Type de cuisine  Salles de bains  \\\n",
       "Type                                                                        \n",
       "APARTMENT                 nan         2                2                1   \n",
       "HOUSE                   10239         4                2                2   \n",
       "\n",
       "           Ratio chambres sdb  Toilettes  Terrasse  Surface de la terrasse  \\\n",
       "Type                                                                         \n",
       "APARTMENT                   2          1         1                      19   \n",
       "HOUSE                       3          2         1                      33   \n",
       "\n",
       "           Jardin  Surface du jardin  Nombre de façades  Parking  \\\n",
       "Type                                                               \n",
       "APARTMENT       0                491                  2        0   \n",
       "HOUSE           0               1085                  3        1   \n",
       "\n",
       "           Année de construction  État du bâtiment  Classe énergétique  \n",
       "Type                                                                    \n",
       "APARTMENT                   1997                 2                   5  \n",
       "HOUSE                       1968                 3                   6  "
      ]
     },
     "execution_count": 14,
     "metadata": {},
     "output_type": "execute_result"
    }
   ],
   "source": [
    "properties.groupby(\"Type\").mean()"
   ]
  },
  {
   "cell_type": "code",
   "execution_count": 15,
   "metadata": {},
   "outputs": [],
   "source": [
    "houses = properties.loc[properties[\"Type\"]==\"HOUSE\"]\n",
    "apartments = properties.loc[properties[\"Type\"]==\"APARTMENT\"]"
   ]
  },
  {
   "cell_type": "markdown",
   "metadata": {},
   "source": [
    "We have 3 data bases to work with:\n",
    "\n",
    "    - properties which contains all the data about all the properties\n",
    "    \n",
    "    - apartments contains data about apartments only\n",
    "    \n",
    "    - houses contains data about houses only\n",
    "Save the 3 databases in an excel format"
   ]
  },
  {
   "cell_type": "code",
   "execution_count": 16,
   "metadata": {},
   "outputs": [],
   "source": [
    "properties.to_excel('{}properties_{}.xlsx'.format(path,date_string), sheet_name= 'properties')\n",
    "apartments.to_excel('{}apartments_{}.xlsx'.format(path,date_string), sheet_name= 'apartments')\n",
    "houses.to_excel('{}houses_{}.xlsx'.format(path,date_string), sheet_name= 'houses')"
   ]
  },
  {
   "cell_type": "code",
   "execution_count": null,
   "metadata": {},
   "outputs": [],
   "source": []
  }
 ],
 "metadata": {
  "kernelspec": {
   "display_name": "Python 3",
   "language": "python",
   "name": "python3"
  },
  "language_info": {
   "codemirror_mode": {
    "name": "ipython",
    "version": 3
   },
   "file_extension": ".py",
   "mimetype": "text/x-python",
   "name": "python",
   "nbconvert_exporter": "python",
   "pygments_lexer": "ipython3",
   "version": "3.8.5"
  }
 },
 "nbformat": 4,
 "nbformat_minor": 4
}
